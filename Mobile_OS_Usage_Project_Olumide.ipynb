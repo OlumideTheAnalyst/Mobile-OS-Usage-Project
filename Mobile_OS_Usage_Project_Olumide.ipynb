{
 "cells": [
  {
   "cell_type": "markdown",
   "id": "2ae1c0db",
   "metadata": {},
   "source": [
    "# Mobile OS Usage Project"
   ]
  },
  {
   "cell_type": "markdown",
   "id": "a65abf25",
   "metadata": {},
   "source": [
    "## Scenario\n",
    "\n",
    "You're a Data Analyst in an Application Development firm in Ontario, Canada. The company just developed a mobile game application targeted at young people between the ages of 18 and 45. This mobile application has recorded tremendous success since the launch with over 100 million downloads recorded on various OS platforms. \n",
    "\n",
    "The Product Manager has summoned you and tasked you with the assignment of determining the 3 highest mobile OS usage across all the OS platforms over a period of 5 months. Based on your findings, you're to make recommendations to the business on how the business can utilize its resources in consolidating the gains of this mobile applications based on its users."
   ]
  },
  {
   "cell_type": "markdown",
   "id": "3bb637b6",
   "metadata": {},
   "source": [
    "## Objective\n",
    "\n",
    "To determine the percentage of usage of the various mobile operating systems avaialable over a period of time"
   ]
  },
  {
   "cell_type": "markdown",
   "id": "381b958a",
   "metadata": {},
   "source": [
    "**Load the relevant library packages** "
   ]
  },
  {
   "cell_type": "code",
   "execution_count": 1,
   "id": "75b6c31d",
   "metadata": {},
   "outputs": [],
   "source": [
    "import pandas as pd\n",
    "import matplotlib.pyplot as plt\n",
    "import seaborn as sns\n",
    "import numpy as np"
   ]
  },
  {
   "cell_type": "markdown",
   "id": "9684d549",
   "metadata": {},
   "source": [
    "**Import the dataset**"
   ]
  },
  {
   "cell_type": "code",
   "execution_count": 2,
   "id": "f042fbc2",
   "metadata": {},
   "outputs": [],
   "source": [
    "mobile = pd.read_csv('C:\\\\Users\\\\user\\\\Downloads\\\\Datasets\\\\mobile_os_usage.csv')"
   ]
  },
  {
   "cell_type": "markdown",
   "id": "2b7b7de4",
   "metadata": {},
   "source": [
    "**Get familiar with the data**"
   ]
  },
  {
   "cell_type": "code",
   "execution_count": 3,
   "id": "5e728d32",
   "metadata": {
    "scrolled": false
   },
   "outputs": [
    {
     "data": {
      "text/html": [
       "<div>\n",
       "<style scoped>\n",
       "    .dataframe tbody tr th:only-of-type {\n",
       "        vertical-align: middle;\n",
       "    }\n",
       "\n",
       "    .dataframe tbody tr th {\n",
       "        vertical-align: top;\n",
       "    }\n",
       "\n",
       "    .dataframe thead th {\n",
       "        text-align: right;\n",
       "    }\n",
       "</style>\n",
       "<table border=\"1\" class=\"dataframe\">\n",
       "  <thead>\n",
       "    <tr style=\"text-align: right;\">\n",
       "      <th></th>\n",
       "      <th>Date</th>\n",
       "      <th>Mobile Operating System</th>\n",
       "      <th>Percent of Usage</th>\n",
       "    </tr>\n",
       "  </thead>\n",
       "  <tbody>\n",
       "    <tr>\n",
       "      <th>0</th>\n",
       "      <td>2008-12-01</td>\n",
       "      <td>Android</td>\n",
       "      <td>0.00</td>\n",
       "    </tr>\n",
       "    <tr>\n",
       "      <th>1</th>\n",
       "      <td>2008-12-01</td>\n",
       "      <td>iOS</td>\n",
       "      <td>32.56</td>\n",
       "    </tr>\n",
       "    <tr>\n",
       "      <th>2</th>\n",
       "      <td>2008-12-01</td>\n",
       "      <td>SymbianOS</td>\n",
       "      <td>42.02</td>\n",
       "    </tr>\n",
       "    <tr>\n",
       "      <th>3</th>\n",
       "      <td>2008-12-01</td>\n",
       "      <td>Series 40</td>\n",
       "      <td>0.00</td>\n",
       "    </tr>\n",
       "    <tr>\n",
       "      <th>4</th>\n",
       "      <td>2008-12-01</td>\n",
       "      <td>BlackBerry OS</td>\n",
       "      <td>0.00</td>\n",
       "    </tr>\n",
       "  </tbody>\n",
       "</table>\n",
       "</div>"
      ],
      "text/plain": [
       "         Date Mobile Operating System  Percent of Usage\n",
       "0  2008-12-01                 Android              0.00\n",
       "1  2008-12-01                     iOS             32.56\n",
       "2  2008-12-01               SymbianOS             42.02\n",
       "3  2008-12-01               Series 40              0.00\n",
       "4  2008-12-01           BlackBerry OS              0.00"
      ]
     },
     "execution_count": 3,
     "metadata": {},
     "output_type": "execute_result"
    }
   ],
   "source": [
    "mobile.head()"
   ]
  },
  {
   "cell_type": "code",
   "execution_count": 4,
   "id": "ba9249d7",
   "metadata": {},
   "outputs": [
    {
     "data": {
      "text/html": [
       "<div>\n",
       "<style scoped>\n",
       "    .dataframe tbody tr th:only-of-type {\n",
       "        vertical-align: middle;\n",
       "    }\n",
       "\n",
       "    .dataframe tbody tr th {\n",
       "        vertical-align: top;\n",
       "    }\n",
       "\n",
       "    .dataframe thead th {\n",
       "        text-align: right;\n",
       "    }\n",
       "</style>\n",
       "<table border=\"1\" class=\"dataframe\">\n",
       "  <thead>\n",
       "    <tr style=\"text-align: right;\">\n",
       "      <th></th>\n",
       "      <th>Date</th>\n",
       "      <th>Mobile Operating System</th>\n",
       "      <th>Percent of Usage</th>\n",
       "    </tr>\n",
       "  </thead>\n",
       "  <tbody>\n",
       "    <tr>\n",
       "      <th>1893</th>\n",
       "      <td>NaN</td>\n",
       "      <td>Win7</td>\n",
       "      <td>0.00</td>\n",
       "    </tr>\n",
       "    <tr>\n",
       "      <th>1894</th>\n",
       "      <td>NaN</td>\n",
       "      <td>MeeGo</td>\n",
       "      <td>0.01</td>\n",
       "    </tr>\n",
       "    <tr>\n",
       "      <th>1895</th>\n",
       "      <td>NaN</td>\n",
       "      <td>Maemo 5</td>\n",
       "      <td>0.00</td>\n",
       "    </tr>\n",
       "    <tr>\n",
       "      <th>1896</th>\n",
       "      <td>NaN</td>\n",
       "      <td>WinVista</td>\n",
       "      <td>0.02</td>\n",
       "    </tr>\n",
       "    <tr>\n",
       "      <th>1897</th>\n",
       "      <td>NaN</td>\n",
       "      <td>Other</td>\n",
       "      <td>0.00</td>\n",
       "    </tr>\n",
       "  </tbody>\n",
       "</table>\n",
       "</div>"
      ],
      "text/plain": [
       "     Date Mobile Operating System  Percent of Usage\n",
       "1893  NaN                    Win7              0.00\n",
       "1894  NaN                   MeeGo              0.01\n",
       "1895  NaN                 Maemo 5              0.00\n",
       "1896  NaN                WinVista              0.02\n",
       "1897  NaN                   Other              0.00"
      ]
     },
     "execution_count": 4,
     "metadata": {},
     "output_type": "execute_result"
    }
   ],
   "source": [
    "mobile.tail()"
   ]
  },
  {
   "cell_type": "code",
   "execution_count": 5,
   "id": "0f2ca8b1",
   "metadata": {},
   "outputs": [
    {
     "data": {
      "text/plain": [
       "(1898, 3)"
      ]
     },
     "execution_count": 5,
     "metadata": {},
     "output_type": "execute_result"
    }
   ],
   "source": [
    "mobile.shape"
   ]
  },
  {
   "cell_type": "code",
   "execution_count": 6,
   "id": "410839cc",
   "metadata": {},
   "outputs": [
    {
     "data": {
      "text/plain": [
       "Date                        object\n",
       "Mobile Operating System     object\n",
       "Percent of Usage           float64\n",
       "dtype: object"
      ]
     },
     "execution_count": 6,
     "metadata": {},
     "output_type": "execute_result"
    }
   ],
   "source": [
    "mobile.dtypes"
   ]
  },
  {
   "cell_type": "code",
   "execution_count": 7,
   "id": "921fdf8f",
   "metadata": {},
   "outputs": [
    {
     "data": {
      "text/plain": [
       "Date                       1772\n",
       "Mobile Operating System       0\n",
       "Percent of Usage              0\n",
       "dtype: int64"
      ]
     },
     "execution_count": 7,
     "metadata": {},
     "output_type": "execute_result"
    }
   ],
   "source": [
    "# Check for null values\n",
    "mobile.isnull().sum()"
   ]
  },
  {
   "cell_type": "code",
   "execution_count": 8,
   "id": "489ea899",
   "metadata": {},
   "outputs": [
    {
     "data": {
      "text/plain": [
       "<bound method Series.unique of 0       2008-12-01\n",
       "1       2008-12-01\n",
       "2       2008-12-01\n",
       "3       2008-12-01\n",
       "4       2008-12-01\n",
       "           ...    \n",
       "1893           NaN\n",
       "1894           NaN\n",
       "1895           NaN\n",
       "1896           NaN\n",
       "1897           NaN\n",
       "Name: Date, Length: 1898, dtype: object>"
      ]
     },
     "execution_count": 8,
     "metadata": {},
     "output_type": "execute_result"
    }
   ],
   "source": [
    "mobile['Date'].unique"
   ]
  },
  {
   "cell_type": "markdown",
   "id": "1468d1c6",
   "metadata": {},
   "source": [
    "The null values in the Date column are not needed and can then be ignored for the period of analysis, as we only need 5 months period to get the performances on the different OS platforms (December 2008 - April 2009) which have sufficiently been captured in the dataset"
   ]
  },
  {
   "cell_type": "markdown",
   "id": "32265cce",
   "metadata": {},
   "source": [
    "Convert the Date data type (object) to Datetime"
   ]
  },
  {
   "cell_type": "code",
   "execution_count": 9,
   "id": "7af977af",
   "metadata": {},
   "outputs": [],
   "source": [
    "mobile['Date'] = pd.to_datetime(mobile['Date'])"
   ]
  },
  {
   "cell_type": "code",
   "execution_count": 10,
   "id": "931758dd",
   "metadata": {},
   "outputs": [
    {
     "data": {
      "text/plain": [
       "Date                       datetime64[ns]\n",
       "Mobile Operating System            object\n",
       "Percent of Usage                  float64\n",
       "dtype: object"
      ]
     },
     "execution_count": 10,
     "metadata": {},
     "output_type": "execute_result"
    }
   ],
   "source": [
    "# Check if the change in date data type is effected\n",
    "mobile.dtypes"
   ]
  },
  {
   "cell_type": "code",
   "execution_count": 11,
   "id": "da564e25",
   "metadata": {},
   "outputs": [
    {
     "data": {
      "text/html": [
       "<div>\n",
       "<style scoped>\n",
       "    .dataframe tbody tr th:only-of-type {\n",
       "        vertical-align: middle;\n",
       "    }\n",
       "\n",
       "    .dataframe tbody tr th {\n",
       "        vertical-align: top;\n",
       "    }\n",
       "\n",
       "    .dataframe thead th {\n",
       "        text-align: right;\n",
       "    }\n",
       "</style>\n",
       "<table border=\"1\" class=\"dataframe\">\n",
       "  <thead>\n",
       "    <tr style=\"text-align: right;\">\n",
       "      <th></th>\n",
       "      <th>Date</th>\n",
       "      <th>Mobile Operating System</th>\n",
       "      <th>Percent of Usage</th>\n",
       "    </tr>\n",
       "  </thead>\n",
       "  <tbody>\n",
       "    <tr>\n",
       "      <th>0</th>\n",
       "      <td>2008-12-01</td>\n",
       "      <td>Android</td>\n",
       "      <td>0.00</td>\n",
       "    </tr>\n",
       "    <tr>\n",
       "      <th>1</th>\n",
       "      <td>2008-12-01</td>\n",
       "      <td>iOS</td>\n",
       "      <td>32.56</td>\n",
       "    </tr>\n",
       "    <tr>\n",
       "      <th>2</th>\n",
       "      <td>2008-12-01</td>\n",
       "      <td>SymbianOS</td>\n",
       "      <td>42.02</td>\n",
       "    </tr>\n",
       "    <tr>\n",
       "      <th>3</th>\n",
       "      <td>2008-12-01</td>\n",
       "      <td>Series 40</td>\n",
       "      <td>0.00</td>\n",
       "    </tr>\n",
       "    <tr>\n",
       "      <th>4</th>\n",
       "      <td>2008-12-01</td>\n",
       "      <td>BlackBerry OS</td>\n",
       "      <td>0.00</td>\n",
       "    </tr>\n",
       "  </tbody>\n",
       "</table>\n",
       "</div>"
      ],
      "text/plain": [
       "        Date Mobile Operating System  Percent of Usage\n",
       "0 2008-12-01                 Android              0.00\n",
       "1 2008-12-01                     iOS             32.56\n",
       "2 2008-12-01               SymbianOS             42.02\n",
       "3 2008-12-01               Series 40              0.00\n",
       "4 2008-12-01           BlackBerry OS              0.00"
      ]
     },
     "execution_count": 11,
     "metadata": {},
     "output_type": "execute_result"
    }
   ],
   "source": [
    "mobile.head()"
   ]
  },
  {
   "cell_type": "code",
   "execution_count": 12,
   "id": "8b6e1c30",
   "metadata": {},
   "outputs": [
    {
     "data": {
      "text/plain": [
       "5694"
      ]
     },
     "execution_count": 12,
     "metadata": {},
     "output_type": "execute_result"
    }
   ],
   "source": [
    "mobile.size"
   ]
  },
  {
   "cell_type": "markdown",
   "id": "dce7a68e",
   "metadata": {},
   "source": [
    "**Descriptive Statistics**"
   ]
  },
  {
   "cell_type": "code",
   "execution_count": 13,
   "id": "db12ba37",
   "metadata": {},
   "outputs": [
    {
     "data": {
      "text/html": [
       "<div>\n",
       "<style scoped>\n",
       "    .dataframe tbody tr th:only-of-type {\n",
       "        vertical-align: middle;\n",
       "    }\n",
       "\n",
       "    .dataframe tbody tr th {\n",
       "        vertical-align: top;\n",
       "    }\n",
       "\n",
       "    .dataframe thead th {\n",
       "        text-align: right;\n",
       "    }\n",
       "</style>\n",
       "<table border=\"1\" class=\"dataframe\">\n",
       "  <thead>\n",
       "    <tr style=\"text-align: right;\">\n",
       "      <th></th>\n",
       "      <th>Percent of Usage</th>\n",
       "    </tr>\n",
       "  </thead>\n",
       "  <tbody>\n",
       "    <tr>\n",
       "      <th>count</th>\n",
       "      <td>1898.000000</td>\n",
       "    </tr>\n",
       "    <tr>\n",
       "      <th>mean</th>\n",
       "      <td>3.846096</td>\n",
       "    </tr>\n",
       "    <tr>\n",
       "      <th>std</th>\n",
       "      <td>9.027872</td>\n",
       "    </tr>\n",
       "    <tr>\n",
       "      <th>min</th>\n",
       "      <td>0.000000</td>\n",
       "    </tr>\n",
       "    <tr>\n",
       "      <th>25%</th>\n",
       "      <td>0.000000</td>\n",
       "    </tr>\n",
       "    <tr>\n",
       "      <th>50%</th>\n",
       "      <td>0.075000</td>\n",
       "    </tr>\n",
       "    <tr>\n",
       "      <th>75%</th>\n",
       "      <td>2.210000</td>\n",
       "    </tr>\n",
       "    <tr>\n",
       "      <th>max</th>\n",
       "      <td>59.900000</td>\n",
       "    </tr>\n",
       "  </tbody>\n",
       "</table>\n",
       "</div>"
      ],
      "text/plain": [
       "       Percent of Usage\n",
       "count       1898.000000\n",
       "mean           3.846096\n",
       "std            9.027872\n",
       "min            0.000000\n",
       "25%            0.000000\n",
       "50%            0.075000\n",
       "75%            2.210000\n",
       "max           59.900000"
      ]
     },
     "execution_count": 13,
     "metadata": {},
     "output_type": "execute_result"
    }
   ],
   "source": [
    "# Descriptive statistics\n",
    "mobile.describe()"
   ]
  },
  {
   "cell_type": "code",
   "execution_count": 14,
   "id": "e3c2c425",
   "metadata": {},
   "outputs": [
    {
     "data": {
      "text/plain": [
       "<AxesSubplot:title={'center':'Histogram for Percent of Usage'}, xlabel='Percent of Usage', ylabel='Count'>"
      ]
     },
     "execution_count": 14,
     "metadata": {},
     "output_type": "execute_result"
    },
    {
     "data": {
      "image/png": "[encoded data removed]",
      "text/plain": [
       "<Figure size 432x288 with 1 Axes>"
      ]
     },
     "metadata": {
      "needs_background": "light"
     },
     "output_type": "display_data"
    }
   ],
   "source": [
    "plt.title(\"Histogram for Percent of Usage\")\n",
    "sns.histplot(mobile['Percent of Usage'])"
   ]
  },
  {
   "cell_type": "markdown",
   "id": "339337a7",
   "metadata": {},
   "source": [
    "The histogram for Percent of Usage is not a normal distribution as it is skewed to the right."
   ]
  },
  {
   "cell_type": "code",
   "execution_count": 15,
   "id": "6b148fe5",
   "metadata": {},
   "outputs": [
    {
     "name": "stderr",
     "output_type": "stream",
     "text": [
      "C:\\Users\\user\\anaconda3\\lib\\site-packages\\seaborn\\_decorators.py:36: FutureWarning: Pass the following variable as a keyword arg: x. From version 0.12, the only valid positional argument will be `data`, and passing other arguments without an explicit keyword will result in an error or misinterpretation.\n",
      "  warnings.warn(\n"
     ]
    },
    {
     "data": {
      "text/plain": [
       "<AxesSubplot:title={'center':'Boxplot for Percent of Usage'}, xlabel='Percent of Usage'>"
      ]
     },
     "execution_count": 15,
     "metadata": {},
     "output_type": "execute_result"
    },
    {
     "data": {
      "image/png": "[encoded data removed]",
      "text/plain": [
       "<Figure size 432x288 with 1 Axes>"
      ]
     },
     "metadata": {
      "needs_background": "light"
     },
     "output_type": "display_data"
    }
   ],
   "source": [
    "plt.title(\"Boxplot for Percent of Usage\")\n",
    "sns.boxplot(mobile['Percent of Usage'])"
   ]
  },
  {
   "cell_type": "code",
   "execution_count": 16,
   "id": "01a5f09f",
   "metadata": {},
   "outputs": [
    {
     "data": {
      "text/plain": [
       "<bound method DataFrame.info of            Date Mobile Operating System  Percent of Usage\n",
       "0    2008-12-01                 Android              0.00\n",
       "1    2008-12-01                     iOS             32.56\n",
       "2    2008-12-01               SymbianOS             42.02\n",
       "3    2008-12-01               Series 40              0.00\n",
       "4    2008-12-01           BlackBerry OS              0.00\n",
       "...         ...                     ...               ...\n",
       "1893        NaT                    Win7              0.00\n",
       "1894        NaT                   MeeGo              0.01\n",
       "1895        NaT                 Maemo 5              0.00\n",
       "1896        NaT                WinVista              0.02\n",
       "1897        NaT                   Other              0.00\n",
       "\n",
       "[1898 rows x 3 columns]>"
      ]
     },
     "execution_count": 16,
     "metadata": {},
     "output_type": "execute_result"
    }
   ],
   "source": [
    "mobile.info"
   ]
  },
  {
   "cell_type": "code",
   "execution_count": 17,
   "id": "b1b710ce",
   "metadata": {},
   "outputs": [
    {
     "data": {
      "text/plain": [
       "array(['Android', 'iOS', 'SymbianOS', 'Series 40', 'BlackBerry OS',\n",
       "       'Samsung', 'Unknown', 'Windows Phone', 'Sony Ericsson', 'Linux',\n",
       "       'bada', 'Nokia Unknown', 'LG', 'Playstation', 'WinCE',\n",
       "       'Nintendo 3DS', 'Nintendo', 'webOS', 'WinXP', 'Brew', 'Motorola',\n",
       "       'Win7', 'MeeGo', 'Maemo 5', 'WinVista', 'Other'], dtype=object)"
      ]
     },
     "execution_count": 17,
     "metadata": {},
     "output_type": "execute_result"
    }
   ],
   "source": [
    "mobile['Mobile Operating System'].unique()"
   ]
  },
  {
   "cell_type": "code",
   "execution_count": 18,
   "id": "3aebc93b",
   "metadata": {},
   "outputs": [
    {
     "data": {
      "text/plain": [
       "Android          73\n",
       "iOS              73\n",
       "WinVista         73\n",
       "Maemo 5          73\n",
       "MeeGo            73\n",
       "Win7             73\n",
       "Motorola         73\n",
       "Brew             73\n",
       "WinXP            73\n",
       "webOS            73\n",
       "Nintendo         73\n",
       "Nintendo 3DS     73\n",
       "WinCE            73\n",
       "Playstation      73\n",
       "LG               73\n",
       "Nokia Unknown    73\n",
       "bada             73\n",
       "Linux            73\n",
       "Sony Ericsson    73\n",
       "Windows Phone    73\n",
       "Unknown          73\n",
       "Samsung          73\n",
       "BlackBerry OS    73\n",
       "Series 40        73\n",
       "SymbianOS        73\n",
       "Other            73\n",
       "Name: Mobile Operating System, dtype: int64"
      ]
     },
     "execution_count": 18,
     "metadata": {},
     "output_type": "execute_result"
    }
   ],
   "source": [
    "mobile['Mobile Operating System'].value_counts()"
   ]
  },
  {
   "cell_type": "code",
   "execution_count": 19,
   "id": "2ed1c031",
   "metadata": {},
   "outputs": [
    {
     "name": "stderr",
     "output_type": "stream",
     "text": [
      "C:\\Users\\user\\anaconda3\\lib\\site-packages\\seaborn\\_decorators.py:36: FutureWarning: Pass the following variable as a keyword arg: x. From version 0.12, the only valid positional argument will be `data`, and passing other arguments without an explicit keyword will result in an error or misinterpretation.\n",
      "  warnings.warn(\n"
     ]
    },
    {
     "data": {
      "text/plain": [
       "<AxesSubplot:title={'center':'Count of Mobile Operating System'}, xlabel='Mobile Operating System', ylabel='count'>"
      ]
     },
     "execution_count": 19,
     "metadata": {},
     "output_type": "execute_result"
    },
    {
     "data": {
      "image/png": "[encoded data removed]",
      "text/plain": [
       "<Figure size 1440x720 with 1 Axes>"
      ]
     },
     "metadata": {
      "needs_background": "light"
     },
     "output_type": "display_data"
    }
   ],
   "source": [
    "plt.figure(figsize=(20,10))\n",
    "plt.title(\"Count of Mobile Operating System\")\n",
    "sns.countplot(mobile['Mobile Operating System'])"
   ]
  },
  {
   "cell_type": "markdown",
   "id": "19ed0fa9",
   "metadata": {},
   "source": [
    "The number of observations was constant across all the OS platforms which shows in the number of counts at 73. This would allow for uniformity in the results of our analysis regarding the percent of OS usage across board."
   ]
  },
  {
   "cell_type": "markdown",
   "id": "9c2fe32d",
   "metadata": {},
   "source": [
    "**Analyze and Visualize**"
   ]
  },
  {
   "cell_type": "code",
   "execution_count": 20,
   "id": "2220cf13",
   "metadata": {},
   "outputs": [
    {
     "data": {
      "text/plain": [
       "<AxesSubplot:title={'center':'Percent of Usage of Mobile Operating System'}, xlabel='Percent of Usage', ylabel='Mobile Operating System'>"
      ]
     },
     "execution_count": 20,
     "metadata": {},
     "output_type": "execute_result"
    },
    {
     "data": {
      "image/png": "[encoded data removed]",
      "text/plain": [
       "<Figure size 1080x576 with 1 Axes>"
      ]
     },
     "metadata": {
      "needs_background": "light"
     },
     "output_type": "display_data"
    }
   ],
   "source": [
    "plt.figure(figsize=(15, 8))\n",
    "plt.title(\"Percent of Usage of Mobile Operating System\")\n",
    "sns.barplot(x='Percent of Usage', y='Mobile Operating System', data=mobile)"
   ]
  },
  {
   "cell_type": "markdown",
   "id": "1500aef3",
   "metadata": {},
   "source": [
    "The 3 mobile operating systems with highest percent usage are: \n",
    "\n",
    "* iOS with more than 25% usage\n",
    "\n",
    "* Android with almost 25% usage, and \n",
    "\n",
    "* SymbianOS with a little above 20% usage."
   ]
  },
  {
   "cell_type": "code",
   "execution_count": 21,
   "id": "01bc9c11",
   "metadata": {},
   "outputs": [
    {
     "data": {
      "text/plain": [
       "<AxesSubplot:title={'center':'Relationship between Date and Percent of Usage'}, xlabel='Date', ylabel='Percent of Usage'>"
      ]
     },
     "execution_count": 21,
     "metadata": {},
     "output_type": "execute_result"
    },
    {
     "data": {
      "image/png": "[encoded data removed]",
      "text/plain": [
       "<Figure size 720x504 with 1 Axes>"
      ]
     },
     "metadata": {
      "needs_background": "light"
     },
     "output_type": "display_data"
    }
   ],
   "source": [
    "plt.figure(figsize=(10,7))\n",
    "plt.title(\"Relationship between Date and Percent of Usage\")\n",
    "sns.lineplot(x='Date', y='Percent of Usage', data=mobile)"
   ]
  },
  {
   "cell_type": "markdown",
   "id": "4a2d632d",
   "metadata": {},
   "source": [
    "Generally across all the OS platforms, Percent of Usage was constant around 4%, from December 2008 till February 2009, then went up from March 2009 close to 5% in April 2009."
   ]
  },
  {
   "cell_type": "code",
   "execution_count": 22,
   "id": "efde3132",
   "metadata": {},
   "outputs": [
    {
     "data": {
      "text/plain": [
       "<AxesSubplot:title={'center':'Relationship between MobileOS and Percent of Usage in relation to Date'}, xlabel='Percent of Usage', ylabel='Mobile Operating System'>"
      ]
     },
     "execution_count": 22,
     "metadata": {},
     "output_type": "execute_result"
    },
    {
     "data": {
      "image/png": "[encoded data removed]",
      "text/plain": [
       "<Figure size 864x504 with 1 Axes>"
      ]
     },
     "metadata": {
      "needs_background": "light"
     },
     "output_type": "display_data"
    }
   ],
   "source": [
    "plt.figure(figsize=(12,7))\n",
    "plt.title('Relationship between MobileOS and Percent of Usage in relation to Date')\n",
    "sns.scatterplot(x='Percent of Usage', y='Mobile Operating System', data=mobile, hue='Date')"
   ]
  },
  {
   "cell_type": "markdown",
   "id": "ce8b8544",
   "metadata": {},
   "source": [
    "* For the iOS, we recorded increase in the percent of usage from December of 2008 to April of 2009.\n",
    "\n",
    "* For the SymbianOS, the percent of usage decreased from December of 2008 to April 2009, i.e., SymbianOS recorded more usage in December 2008 than in April 2009. \n",
    "\n",
    "* This means, SymbianOS usage decreased over time, while iOS usage incresased over time.\n",
    "\n",
    "* The percent usage of Android was low compared to iOS and SymbianOS during the duration in review but Android usage increased from December 2008 March 2009, then took a little dip in April 2009.\n",
    "\n"
   ]
  },
  {
   "cell_type": "markdown",
   "id": "06be2ebf",
   "metadata": {},
   "source": [
    "### Recommendations"
   ]
  },
  {
   "cell_type": "markdown",
   "id": "785cc5de",
   "metadata": {},
   "source": [
    "Based on the results of the analyses conducted on the mobile OS usage dataset, the following recommendations were made to the business:\n",
    "\n",
    "* Design a user review system on all the platforms to get feedbacks from users on different platforms in order to enhance user experience based on the reviews.\n",
    "\n",
    "* Further investigations should be carried out for the SymbianOS platform to ascertain the reason(s) for the descrease in usage percentage over time.\n",
    "\n",
    "* Targetted advertisements should be carried out for Android users in order for the percent of usage to catch up with iOS and SymbianOS platforms.\n",
    "\n",
    "* Investigate the reasons for the rise in Percent of Usage across all OS platforms between March and April 2009 and implement the factors across all the months of the year to increase usage across all the platforms"
   ]
  },
  {
   "cell_type": "code",
   "execution_count": null,
   "id": "3cd620d3",
   "metadata": {},
   "outputs": [],
   "source": []
  }
 ],
 "metadata": {
  "kernelspec": {
   "display_name": "Python 3 (ipykernel)",
   "language": "python",
   "name": "python3"
  },
  "language_info": {
   "codemirror_mode": {
    "name": "ipython",
    "version": 3
   },
   "file_extension": ".py",
   "mimetype": "text/x-python",
   "name": "python",
   "nbconvert_exporter": "python",
   "pygments_lexer": "ipython3",
   "version": "3.8.12"
  }
 },
 "nbformat": 4,
 "nbformat_minor": 5
}
